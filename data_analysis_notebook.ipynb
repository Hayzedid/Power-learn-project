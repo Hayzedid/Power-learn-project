{
 "cells": [
  {
   "cell_type": "code",
   "execution_count": null,
   "id": "843105d6",
   "metadata": {},
   "outputs": [],
   "source": [
    "print(\"Observations:\")\n",
    "print(\"- Setosa species has the shortest petal length on average.\")\n",
    "print(\"- Petal length distribution is skewed towards lower values.\")\n",
    "print(\"- Sepal length and petal length are positively correlated, especially for versicolor and virginica.\")"
   ]
  },
  {
   "cell_type": "markdown",
   "id": "1bad81b2",
   "metadata": {},
   "source": [
    "## Observations"
   ]
  },
  {
   "cell_type": "code",
   "execution_count": null,
   "id": "ffa817b2",
   "metadata": {},
   "outputs": [],
   "source": [
    "plt.figure(figsize=(6,4))\n",
    "sns.scatterplot(data=df_clean, x='sepal_length', y='petal_length', hue='species')\n",
    "plt.title('Sepal Length vs Petal Length')\n",
    "plt.xlabel('Sepal Length')\n",
    "plt.ylabel('Petal Length')\n",
    "plt.legend(title='Species')\n",
    "plt.show()"
   ]
  },
  {
   "cell_type": "markdown",
   "id": "4f83ba6e",
   "metadata": {},
   "source": [
    "## Section 10: Create Scatter Plot"
   ]
  },
  {
   "cell_type": "code",
   "execution_count": null,
   "id": "6f5d6ea9",
   "metadata": {},
   "outputs": [],
   "source": [
    "plt.figure(figsize=(6,4))\n",
    "plt.hist(df_clean['petal_length'], bins=20, color='purple', alpha=0.7)\n",
    "plt.title('Distribution of Petal Length')\n",
    "plt.xlabel('Petal Length')\n",
    "plt.ylabel('Frequency')\n",
    "plt.show()"
   ]
  },
  {
   "cell_type": "markdown",
   "id": "61331498",
   "metadata": {},
   "source": [
    "## Section 9: Create Histogram"
   ]
  },
  {
   "cell_type": "code",
   "execution_count": null,
   "id": "c3247cd6",
   "metadata": {},
   "outputs": [],
   "source": [
    "plt.figure(figsize=(6,4))\n",
    "df_clean.groupby('species')['sepal_width'].mean().plot(kind='bar', color=['skyblue','salmon','lime'])\n",
    "plt.title('Average Sepal Width per Species')\n",
    "plt.xlabel('Species')\n",
    "plt.ylabel('Average Sepal Width')\n",
    "plt.show()"
   ]
  },
  {
   "cell_type": "markdown",
   "id": "62a1004b",
   "metadata": {},
   "source": [
    "## Section 8: Create Bar Chart"
   ]
  },
  {
   "cell_type": "code",
   "execution_count": null,
   "id": "e6eaee47",
   "metadata": {},
   "outputs": [],
   "source": [
    "plt.figure(figsize=(6,4))\n",
    "grouped.plot(kind='line', marker='o')\n",
    "plt.title('Mean Petal Length per Species')\n",
    "plt.xlabel('Species')\n",
    "plt.ylabel('Mean Petal Length')\n",
    "plt.grid(True)\n",
    "plt.show()"
   ]
  },
  {
   "cell_type": "markdown",
   "id": "1ad49d96",
   "metadata": {},
   "source": [
    "## Section 7: Create Line Chart"
   ]
  },
  {
   "cell_type": "code",
   "execution_count": null,
   "id": "6e76dca1",
   "metadata": {},
   "outputs": [],
   "source": [
    "# Group by species and compute mean petal_length\n",
    "grouped = df_clean.groupby('species')['petal_length'].mean()\n",
    "print(\"Mean petal length per species:\")\n",
    "print(grouped)"
   ]
  },
  {
   "cell_type": "markdown",
   "id": "9c24c274",
   "metadata": {},
   "source": [
    "## Section 6: Perform Group Analysis"
   ]
  },
  {
   "cell_type": "code",
   "execution_count": null,
   "id": "2d906b4c",
   "metadata": {},
   "outputs": [],
   "source": [
    "print(\"Basic statistics:\")\n",
    "print(df_clean.describe())"
   ]
  },
  {
   "cell_type": "markdown",
   "id": "f9e588af",
   "metadata": {},
   "source": [
    "## Section 5: Compute Basic Statistics"
   ]
  },
  {
   "cell_type": "code",
   "execution_count": null,
   "id": "9d2bc2fe",
   "metadata": {},
   "outputs": [],
   "source": [
    "# Clean dataset (drop missing values)\n",
    "df_clean = df.dropna()\n",
    "print(\"Dataset cleaned. Shape:\", df_clean.shape)"
   ]
  },
  {
   "cell_type": "markdown",
   "id": "dfca7cf0",
   "metadata": {},
   "source": [
    "## Section 4: Clean the Dataset"
   ]
  },
  {
   "cell_type": "code",
   "execution_count": null,
   "id": "103a2717",
   "metadata": {},
   "outputs": [],
   "source": [
    "print(\"First five rows:\")\n",
    "print(df.head())\n",
    "\n",
    "print(\"\\nData types:\")\n",
    "print(df.dtypes)\n",
    "\n",
    "print(\"\\nMissing values:\")\n",
    "print(df.isnull().sum())"
   ]
  },
  {
   "cell_type": "markdown",
   "id": "1bd74017",
   "metadata": {},
   "source": [
    "## Section 3: Explore the Dataset Structure"
   ]
  },
  {
   "cell_type": "code",
   "execution_count": null,
   "id": "696bf694",
   "metadata": {},
   "outputs": [],
   "source": [
    "try:\n",
    "    iris = load_iris()\n",
    "    df = pd.DataFrame(data=iris.data, columns=iris.feature_names)\n",
    "    df['species'] = iris.target\n",
    "    df['species'] = df['species'].map({0: 'setosa', 1: 'versicolor', 2: 'virginica'})\n",
    "    print(\"Dataset loaded successfully.\")\n",
    "except Exception as e:\n",
    "    print(\"Error loading dataset:\", e)"
   ]
  },
  {
   "cell_type": "markdown",
   "id": "1a1b43ca",
   "metadata": {},
   "source": [
    "## Section 2: Load the Dataset"
   ]
  },
  {
   "cell_type": "code",
   "execution_count": null,
   "id": "d43a46e8",
   "metadata": {},
   "outputs": [],
   "source": [
    "import pandas as pd\n",
    "import numpy as np\n",
    "import matplotlib.pyplot as plt\n",
    "import seaborn as sns\n",
    "from sklearn.datasets import load_iris"
   ]
  },
  {
   "cell_type": "markdown",
   "id": "ee78ccdc",
   "metadata": {},
   "source": [
    "## Section 1: Import Required Libraries"
   ]
  },
  {
   "cell_type": "markdown",
   "id": "bf3c5b2d",
   "metadata": {},
   "source": [
    "# Data Analysis Assignment: Pandas and Matplotlib"
   ]
  }
 ],
 "metadata": {
  "language_info": {
   "name": "python"
  }
 },
 "nbformat": 4,
 "nbformat_minor": 5
}
